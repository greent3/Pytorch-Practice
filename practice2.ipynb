{
 "cells": [
  {
   "cell_type": "markdown",
   "metadata": {},
   "source": [
    "# Problem: \n",
    "\n",
    "We need to build a (very primitive) neural network that will predict whether our drug dosage is effective or not. \n",
    "\n",
    "But let's build it from scratch, with our last bias as a parameter we want to optimize. "
   ]
  },
  {
   "cell_type": "markdown",
   "metadata": {},
   "source": [
    "First, let's import our libraries"
   ]
  },
  {
   "cell_type": "code",
   "execution_count": 23,
   "metadata": {},
   "outputs": [],
   "source": [
    "import torch\n",
    "import torch.nn as nn\n",
    "import torch.nn.functional as F\n",
    "from torch.optim import SGD #Stochastic Gradient Descent\n",
    "\n",
    "import matplotlib.pyplot as plt\n",
    "import seaborn as sns"
   ]
  },
  {
   "cell_type": "markdown",
   "metadata": {},
   "source": [
    "Create our neural network"
   ]
  },
  {
   "cell_type": "code",
   "execution_count": 24,
   "metadata": {},
   "outputs": [],
   "source": [
    "class BasicNN(nn.Module):\n",
    "\n",
    "    def __init__(self) -> None:\n",
    "        super().__init__()\n",
    "\n",
    "        self.w00 = nn.Parameter(torch.tensor(1.7), requires_grad=False)\n",
    "        self.b00 = nn.Parameter(torch.tensor(-0.85), requires_grad=False)\n",
    "        self.w01 = nn.Parameter(torch.tensor(-40.8), requires_grad=False)\n",
    "\n",
    "        self.w10 = nn.Parameter(torch.tensor(12.6), requires_grad=False)\n",
    "        self.b10 = nn.Parameter(torch.tensor(0.0), requires_grad=False)\n",
    "        self.w11 = nn.Parameter(torch.tensor(2.7), requires_grad=False)\n",
    "\n",
    "        self.final_bias = nn.Parameter(torch.tensor(0.0), requires_grad=True)\n",
    "\n",
    "    def forward(self, input):\n",
    "\n",
    "        input_to_top_relu = input * self.w00 + self.b00\n",
    "        top_relu_output = F.relu(input_to_top_relu)\n",
    "        scaled_top_relu_output = top_relu_output * self.w01\n",
    "\n",
    "        input_to_bottom_relu = input * self.w10 + self.b10\n",
    "        bottom_relu_output = F.relu(input_to_bottom_relu)\n",
    "        scaled_bottom_relu_output = bottom_relu_output * self.w11\n",
    "\n",
    "        input_to_final_relu = scaled_top_relu_output + scaled_bottom_relu_output + self.final_bias\n",
    "\n",
    "        output = F.relu(input_to_final_relu)\n",
    "\n",
    "        return output"
   ]
  },
  {
   "cell_type": "code",
   "execution_count": 25,
   "metadata": {},
   "outputs": [],
   "source": [
    "input_doses = torch.linspace(start=0, end=1, steps=11) # 11 evenly spaced floats between (and including) 0 and 1\n",
    "\n",
    "model = BasicNN()"
   ]
  },
  {
   "cell_type": "code",
   "execution_count": 26,
   "metadata": {},
   "outputs": [],
   "source": [
    "def graph_data(input):\n",
    "\n",
    "    output_values = model(input)\n",
    "\n",
    "    sns.set(style=\"whitegrid\")\n",
    "\n",
    "    sns.lineplot(x=input_doses,\n",
    "                y=output_values.detach(),\n",
    "                color='green',\n",
    "                linewidth=2.5)\n",
    "\n",
    "    plt.ylabel('Effectiveness')\n",
    "    plt.xlabel('Dosage')"
   ]
  },
  {
   "cell_type": "code",
   "execution_count": 27,
   "metadata": {},
   "outputs": [
    {
     "data": {
      "image/png": "[encoded data removed]",
      "text/plain": [
       "<Figure size 432x288 with 1 Axes>"
      ]
     },
     "metadata": {},
     "output_type": "display_data"
    }
   ],
   "source": [
    "graph_data(input_doses)"
   ]
  },
  {
   "cell_type": "markdown",
   "metadata": {},
   "source": [
    "Data we'll use to train our model"
   ]
  },
  {
   "cell_type": "code",
   "execution_count": 28,
   "metadata": {},
   "outputs": [],
   "source": [
    "inputs = [0.0, 0.5, 1.0]\n",
    "labels = [0, 1, 0]"
   ]
  },
  {
   "cell_type": "markdown",
   "metadata": {},
   "source": [
    "Train our model"
   ]
  },
  {
   "cell_type": "code",
   "execution_count": 29,
   "metadata": {},
   "outputs": [
    {
     "name": "stdout",
     "output_type": "stream",
     "text": [
      "Final bias, before optimization: tensor(0.)\n",
      "\n",
      "Step: 0 Final Bias: tensor(-3.2020)\n",
      "\n",
      "Step: 1 Final Bias: tensor(-5.7636)\n",
      "\n",
      "Step: 2 Final Bias: tensor(-7.8129)\n",
      "\n",
      "Step: 3 Final Bias: tensor(-9.4523)\n",
      "\n",
      "Step: 4 Final Bias: tensor(-10.7638)\n",
      "\n",
      "Step: 5 Final Bias: tensor(-11.8131)\n",
      "\n",
      "Step: 6 Final Bias: tensor(-12.6525)\n",
      "\n",
      "Step: 7 Final Bias: tensor(-13.3240)\n",
      "\n",
      "Step: 8 Final Bias: tensor(-13.8612)\n",
      "\n",
      "Step: 9 Final Bias: tensor(-14.2909)\n",
      "\n",
      "Step: 10 Final Bias: tensor(-14.6348)\n",
      "\n",
      "Step: 11 Final Bias: tensor(-14.9098)\n",
      "\n",
      "Step: 12 Final Bias: tensor(-15.1298)\n",
      "\n",
      "Step: 13 Final Bias: tensor(-15.3059)\n",
      "\n",
      "Step: 14 Final Bias: tensor(-15.4467)\n",
      "\n",
      "Step: 15 Final Bias: tensor(-15.5594)\n",
      "\n",
      "Step: 16 Final Bias: tensor(-15.6495)\n",
      "\n",
      "Step: 17 Final Bias: tensor(-15.7216)\n",
      "\n",
      "Step: 18 Final Bias: tensor(-15.7793)\n",
      "\n",
      "Step: 19 Final Bias: tensor(-15.8254)\n",
      "\n",
      "Step: 20 Final Bias: tensor(-15.8623)\n",
      "\n",
      "Step: 21 Final Bias: tensor(-15.8919)\n",
      "\n",
      "Step: 22 Final Bias: tensor(-15.9155)\n",
      "\n",
      "Step: 23 Final Bias: tensor(-15.9344)\n",
      "\n",
      "Step: 24 Final Bias: tensor(-15.9495)\n",
      "\n",
      "Step: 25 Final Bias: tensor(-15.9616)\n",
      "\n",
      "Step: 26 Final Bias: tensor(-15.9713)\n",
      "\n",
      "Step: 27 Final Bias: tensor(-15.9790)\n",
      "\n",
      "Step: 28 Final Bias: tensor(-15.9852)\n",
      "\n",
      "Step: 29 Final Bias: tensor(-15.9902)\n",
      "\n",
      "Step: 30 Final Bias: tensor(-15.9941)\n",
      "\n",
      "Step: 31 Final Bias: tensor(-15.9973)\n",
      "\n",
      "Step: 32 Final Bias: tensor(-15.9999)\n",
      "\n",
      "Step: 33 Final Bias: tensor(-16.0019)\n",
      "\n",
      "Num steps: 34\n",
      "Final bias, after optimization: tensor(-16.0019)\n"
     ]
    }
   ],
   "source": [
    "optimizer = SGD(model.parameters(), lr=0.1)\n",
    "\n",
    "print(\"Final bias, before optimization: \" + str(model.final_bias.data) + \"\\n\")\n",
    "\n",
    "for epoch in range(100):\n",
    "\n",
    "    total_loss = 0\n",
    "\n",
    "    for iteration in range(len(inputs)):\n",
    "        \n",
    "        input_i = inputs[iteration]\n",
    "        label_i = labels[iteration]\n",
    "\n",
    "        output_i = model(input_i)\n",
    "\n",
    "        loss = (output_i - label_i)**2 # SSR for loss calculation\n",
    "\n",
    "        loss.backward()\n",
    "\n",
    "        total_loss += float(loss)\n",
    "\n",
    "    if(total_loss < 0.0001):\n",
    "        print(\"Num steps: \" + str(epoch))\n",
    "        break\n",
    "\n",
    "    optimizer.step()\n",
    "    optimizer.zero_grad()\n",
    "\n",
    "    print(\"Step: \" + str(epoch) + \" Final Bias: \" + str(model.final_bias.data) + \"\\n\")\n",
    "\n",
    "print(\"Final bias, after optimization: \" + str(model.final_bias.data))\n"
   ]
  },
  {
   "cell_type": "markdown",
   "metadata": {},
   "source": [
    "Let's see if our optimized parameter is effective at modeling our data"
   ]
  },
  {
   "cell_type": "code",
   "execution_count": 30,
   "metadata": {},
   "outputs": [
    {
     "data": {
      "image/png": "[encoded data removed]",
      "text/plain": [
       "<Figure size 432x288 with 1 Axes>"
      ]
     },
     "metadata": {},
     "output_type": "display_data"
    }
   ],
   "source": [
    "graph_data(input_doses)"
   ]
  },
  {
   "cell_type": "markdown",
   "metadata": {},
   "source": [
    "We built a neural network that fits our data using pytorch!\n",
    "\n",
    "If we used some testing data and realized that our model doesn't accurately predict the effectiveness of our dose, we could change some of our weights and biases, our activation function, or our method for measuring error until we get an accurate model. \n",
    "\n",
    "Code provided by StatQuest's intro to pytorch video on Youtube. "
   ]
  }
 ],
 "metadata": {
  "kernelspec": {
   "display_name": "Python 3.10.5 64-bit",
   "language": "python",
   "name": "python3"
  },
  "language_info": {
   "codemirror_mode": {
    "name": "ipython",
    "version": 3
   },
   "file_extension": ".py",
   "mimetype": "text/x-python",
   "name": "python",
   "nbconvert_exporter": "python",
   "pygments_lexer": "ipython3",
   "version": "3.10.5"
  },
  "orig_nbformat": 4,
  "vscode": {
   "interpreter": {
    "hash": "a82794c0468f2559a8027c36880cace7e255a756d83da0d7566ca6e5dd3866bf"
   }
  }
 },
 "nbformat": 4,
 "nbformat_minor": 2
}
